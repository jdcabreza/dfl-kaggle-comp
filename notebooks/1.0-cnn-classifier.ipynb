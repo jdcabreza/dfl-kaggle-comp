{
 "cells": [
  {
   "cell_type": "markdown",
   "id": "1bb590b5",
   "metadata": {},
   "source": [
    "# CNN Classifier Approach\n",
    "Here we just explore using a CNN model to do end-to-end classification on each frame in videos from the DFL Bundesliga dataset."
   ]
  },
  {
   "cell_type": "code",
   "execution_count": null,
   "id": "c4790817",
   "metadata": {},
   "outputs": [],
   "source": [
    "import numpy  as np\n",
    "import pandas as pd"
   ]
  }
 ],
 "metadata": {
  "kernelspec": {
   "display_name": "Python 3.10.6 64-bit ('kaggle-dfl')",
   "language": "python",
   "name": "python3"
  },
  "language_info": {
   "codemirror_mode": {
    "name": "ipython",
    "version": 3
   },
   "file_extension": ".py",
   "mimetype": "text/x-python",
   "name": "python",
   "nbconvert_exporter": "python",
   "pygments_lexer": "ipython3",
   "version": "3.10.6"
  },
  "vscode": {
   "interpreter": {
    "hash": "3c12237c0bd9cba1db70ae38bcf24635f528b0b46c9f434a5d5bcb5caeee21ed"
   }
  }
 },
 "nbformat": 4,
 "nbformat_minor": 5
}
