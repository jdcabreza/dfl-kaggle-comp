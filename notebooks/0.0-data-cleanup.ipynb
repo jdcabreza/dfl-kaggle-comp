{
 "cells": [
  {
   "cell_type": "markdown",
   "id": "01464cc1",
   "metadata": {},
   "source": [
    "# Data Cleanup\n",
    "Here we just clean and sort the data into the folders that we'll eventually use for training and evaluating our model."
   ]
  },
  {
   "cell_type": "code",
   "execution_count": null,
   "id": "b403af36",
   "metadata": {},
   "outputs": [],
   "source": [
    "import numpy  as np\n",
    "import pandas as pd"
   ]
  }
 ],
 "metadata": {
  "kernelspec": {
   "display_name": "Python 3 (ipykernel)",
   "language": "python",
   "name": "python3"
  },
  "language_info": {
   "codemirror_mode": {
    "name": "ipython",
    "version": 3
   },
   "file_extension": ".py",
   "mimetype": "text/x-python",
   "name": "python",
   "nbconvert_exporter": "python",
   "pygments_lexer": "ipython3",
   "version": "3.10.6"
  }
 },
 "nbformat": 4,
 "nbformat_minor": 5
}
